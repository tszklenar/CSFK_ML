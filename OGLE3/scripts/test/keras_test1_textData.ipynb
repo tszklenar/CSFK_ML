{
 "cells": [
  {
   "cell_type": "code",
   "execution_count": 1,
   "metadata": {},
   "outputs": [],
   "source": [
    "import numpy as np\n",
    "import glob\n",
    "import os, re\n",
    "import cv2\n",
    "import random\n",
    "import matplotlib.pyplot as plt\n",
    "import tensorflow as tf\n",
    "import datetime"
   ]
  },
  {
   "cell_type": "code",
   "execution_count": null,
   "metadata": {},
   "outputs": [],
   "source": [
    "!pwd"
   ]
  },
  {
   "cell_type": "code",
   "execution_count": 2,
   "metadata": {},
   "outputs": [],
   "source": [
    "dir = \"/Users/tomi/Astronomy/MTA_CSFK/ML_OGLE/OGLE3/test/testdata_nocolor_withtxt/\""
   ]
  },
  {
   "cell_type": "code",
   "execution_count": 3,
   "metadata": {},
   "outputs": [
    {
     "name": "stdout",
     "output_type": "stream",
     "text": [
      "Number of samples:  5000\n"
     ]
    }
   ],
   "source": [
    "datafiles = []\n",
    "datafiles = sorted(glob.glob(dir + \"/*.txt\"))\n",
    "print(\"Number of samples: \", len(datafiles))"
   ]
  },
  {
   "cell_type": "code",
   "execution_count": 4,
   "metadata": {},
   "outputs": [],
   "source": [
    "datasize = len(datafiles)\n",
    "train_setsize = 0.8\n",
    "test_setsize = 0.2\n",
    "img_size = 128\n",
    "batch = 32\n",
    "epoch_number = 25\n",
    "\n",
    "X = []\n",
    "y = []\n",
    "\n",
    "for i in datafiles:\n",
    "    datafile = np.genfromtxt(i)\n",
    "    label = os.path.basename(i).split(\"_\")[0]\n",
    "    X.append(datafile)\n",
    "    y.append(label)\n",
    "\n",
    "X=np.array(X)\n",
    "y=np.array(y)"
   ]
  },
  {
   "cell_type": "code",
   "execution_count": null,
   "metadata": {},
   "outputs": [],
   "source": [
    "#print(\"Datasize:\", datasize)\n",
    "#print(\"Train files:\", len(train_set))\n",
    "#print(\"Test files:\", len(test_set))\n",
    "#print(\"Control files:\", len(control_set))\n",
    "y"
   ]
  },
  {
   "cell_type": "code",
   "execution_count": 5,
   "metadata": {},
   "outputs": [],
   "source": [
    "import sklearn.preprocessing\n",
    "encoder = sklearn.preprocessing.OneHotEncoder(sparse=False)\n",
    "\n",
    "encoder.fit(y.reshape(-1,1))\n",
    "y_enc = encoder.transform(y.reshape(-1,1))"
   ]
  },
  {
   "cell_type": "code",
   "execution_count": 6,
   "metadata": {},
   "outputs": [],
   "source": [
    "import sklearn.model_selection\n",
    "X_train, X_test, y_train, y_test = sklearn.model_selection.train_test_split(X, y_enc, \n",
    "                                                                            shuffle=True, \n",
    "                                                                            stratify=y, \n",
    "                                                                            train_size = train_setsize,\n",
    "                                                                            test_size=test_setsize, \n",
    "                                                                            random_state=42)\n",
    "\n",
    "# (n_sampl, x_dim, y_dim, channels) = X_train.shape\n"
   ]
  },
  {
   "cell_type": "code",
   "execution_count": 41,
   "metadata": {},
   "outputs": [
    {
     "data": {
      "text/plain": [
       "(4000, 5)"
      ]
     },
     "execution_count": 41,
     "metadata": {},
     "output_type": "execute_result"
    }
   ],
   "source": [
    "y_train.shape"
   ]
  },
  {
   "cell_type": "code",
   "execution_count": 42,
   "metadata": {},
   "outputs": [],
   "source": [
    "# Test network version 0.1\n",
    "\n",
    "# from keras import Sequential\n",
    "# from keras.layers import Conv2D, MaxPooling2D, AveragePooling2D\n",
    "# from keras.layers import Flatten,Dense,Dropout\n",
    "\n",
    "from tensorflow.keras.models import Sequential, Model\n",
    "# from tensorflow.keras.layers import Conv2D, MaxPooling2D, AveragePooling2D\n",
    "from tensorflow.keras.layers import Flatten, Dense, Input\n",
    "\n",
    "# x = Sequential()\n",
    "\n",
    "# x.add( Flatten() )\n",
    "\n",
    "# x.add( Dense(256, activation='relu'))\n",
    "# x.add( Dense(256, activation='relu'))\n",
    "# x.add( Dense(64, activation='relu'))\n",
    "\n",
    "# x.add( Dense(5, activation='softmax'))\n",
    "\n",
    "# # inputs = Input(shape=(X_train.shape[0],))\n",
    "inputA = Input(shape=(1,))\n",
    "# x = Flatten()(inputA)\n",
    "\n",
    "x = Dense(256, activation='relu')(inputA)\n",
    "x = Dense(256, activation='relu')(x)\n",
    "x = Dense(64, activation='relu')(x)\n",
    "\n",
    "x = Dense(5, activation='softmax')(x)\n",
    "\n",
    "x = Model(inputs=inputA, outputs = x)\n"
   ]
  },
  {
   "cell_type": "code",
   "execution_count": 43,
   "metadata": {},
   "outputs": [],
   "source": [
    "# from tensorflow.keras.optimizers import SGD\n",
    "\n",
    "# opt = SGD(lr=0.00001, decay=1e-6, momentum=0.9, nesterov=True)\n",
    "x.compile(loss='categorical_crossentropy', optimizer='sgd', metrics=['accuracy'])"
   ]
  },
  {
   "cell_type": "code",
   "execution_count": 44,
   "metadata": {},
   "outputs": [
    {
     "name": "stdout",
     "output_type": "stream",
     "text": [
      "Model: \"model_5\"\n",
      "_________________________________________________________________\n",
      "Layer (type)                 Output Shape              Param #   \n",
      "=================================================================\n",
      "input_9 (InputLayer)         [(None, 1)]               0         \n",
      "_________________________________________________________________\n",
      "dense_22 (Dense)             (None, 256)               512       \n",
      "_________________________________________________________________\n",
      "dense_23 (Dense)             (None, 256)               65792     \n",
      "_________________________________________________________________\n",
      "dense_24 (Dense)             (None, 64)                16448     \n",
      "_________________________________________________________________\n",
      "dense_25 (Dense)             (None, 5)                 325       \n",
      "=================================================================\n",
      "Total params: 83,077\n",
      "Trainable params: 83,077\n",
      "Non-trainable params: 0\n",
      "_________________________________________________________________\n"
     ]
    }
   ],
   "source": [
    "x.summary()"
   ]
  },
  {
   "cell_type": "code",
   "execution_count": 45,
   "metadata": {},
   "outputs": [
    {
     "name": "stdout",
     "output_type": "stream",
     "text": [
      "Train on 4000 samples, validate on 1000 samples\n",
      "Epoch 1/25\n",
      "4000/4000 [==============================] - 1s 362us/sample - loss: 1.4806 - accuracy: 0.3435 - val_loss: 1.4056 - val_accuracy: 0.5180\n",
      "Epoch 2/25\n",
      "4000/4000 [==============================] - 0s 117us/sample - loss: 1.3700 - accuracy: 0.6390 - val_loss: 1.7336 - val_accuracy: 0.6260\n",
      "Epoch 3/25\n",
      "4000/4000 [==============================] - 0s 124us/sample - loss: 1.3386 - accuracy: 0.6308 - val_loss: 1.2261 - val_accuracy: 0.6820\n",
      "Epoch 4/25\n",
      "4000/4000 [==============================] - 1s 127us/sample - loss: 1.3164 - accuracy: 0.6370 - val_loss: 1.1941 - val_accuracy: 0.6320\n",
      "Epoch 5/25\n",
      "4000/4000 [==============================] - 1s 130us/sample - loss: 1.2173 - accuracy: 0.6505 - val_loss: 1.1600 - val_accuracy: 0.6630\n",
      "Epoch 6/25\n",
      "4000/4000 [==============================] - 0s 118us/sample - loss: 1.2395 - accuracy: 0.6410 - val_loss: 1.1838 - val_accuracy: 0.6460\n",
      "Epoch 7/25\n",
      "4000/4000 [==============================] - 0s 118us/sample - loss: 1.1565 - accuracy: 0.6495 - val_loss: 1.0617 - val_accuracy: 0.6540\n",
      "Epoch 8/25\n",
      "4000/4000 [==============================] - 0s 117us/sample - loss: 1.0865 - accuracy: 0.6550 - val_loss: 1.0563 - val_accuracy: 0.6530\n",
      "Epoch 9/25\n",
      "4000/4000 [==============================] - 1s 143us/sample - loss: 1.0279 - accuracy: 0.6647 - val_loss: 0.9258 - val_accuracy: 0.6880\n",
      "Epoch 10/25\n",
      "4000/4000 [==============================] - 1s 149us/sample - loss: 1.0135 - accuracy: 0.6675 - val_loss: 1.2247 - val_accuracy: 0.6670\n",
      "Epoch 11/25\n",
      "4000/4000 [==============================] - 1s 250us/sample - loss: 0.9178 - accuracy: 0.6747 - val_loss: 0.8422 - val_accuracy: 0.6640\n",
      "Epoch 12/25\n",
      "4000/4000 [==============================] - 1s 184us/sample - loss: 0.9262 - accuracy: 0.6768 - val_loss: 0.8220 - val_accuracy: 0.6720\n",
      "Epoch 13/25\n",
      "4000/4000 [==============================] - 0s 118us/sample - loss: 0.8325 - accuracy: 0.6902 - val_loss: 0.9319 - val_accuracy: 0.6770\n",
      "Epoch 14/25\n",
      "4000/4000 [==============================] - 0s 107us/sample - loss: 0.8283 - accuracy: 0.6895 - val_loss: 0.7694 - val_accuracy: 0.7060\n",
      "Epoch 15/25\n",
      "4000/4000 [==============================] - 1s 134us/sample - loss: 0.7879 - accuracy: 0.7023 - val_loss: 0.7135 - val_accuracy: 0.7140\n",
      "Epoch 16/25\n",
      "4000/4000 [==============================] - 1s 199us/sample - loss: 0.7912 - accuracy: 0.7025 - val_loss: 0.7036 - val_accuracy: 0.7320\n",
      "Epoch 17/25\n",
      "4000/4000 [==============================] - 1s 159us/sample - loss: 0.7653 - accuracy: 0.7117 - val_loss: 0.7483 - val_accuracy: 0.6840\n",
      "Epoch 18/25\n",
      "4000/4000 [==============================] - 1s 154us/sample - loss: 0.7169 - accuracy: 0.7180 - val_loss: 0.6801 - val_accuracy: 0.6920\n",
      "Epoch 19/25\n",
      "4000/4000 [==============================] - 1s 169us/sample - loss: 0.6847 - accuracy: 0.7318 - val_loss: 0.6502 - val_accuracy: 0.7420\n",
      "Epoch 20/25\n",
      "4000/4000 [==============================] - 1s 139us/sample - loss: 0.6791 - accuracy: 0.7333 - val_loss: 0.6425 - val_accuracy: 0.7470\n",
      "Epoch 21/25\n",
      "4000/4000 [==============================] - 0s 106us/sample - loss: 0.6757 - accuracy: 0.7305 - val_loss: 0.6448 - val_accuracy: 0.7170\n",
      "Epoch 22/25\n",
      "4000/4000 [==============================] - 0s 103us/sample - loss: 0.6500 - accuracy: 0.7423 - val_loss: 0.6218 - val_accuracy: 0.7510\n",
      "Epoch 23/25\n",
      "4000/4000 [==============================] - 0s 101us/sample - loss: 0.6392 - accuracy: 0.7425 - val_loss: 0.6298 - val_accuracy: 0.7400\n",
      "Epoch 24/25\n",
      "4000/4000 [==============================] - 1s 130us/sample - loss: 0.6531 - accuracy: 0.7377 - val_loss: 0.6148 - val_accuracy: 0.7220\n",
      "Epoch 25/25\n",
      "4000/4000 [==============================] - 0s 107us/sample - loss: 0.6298 - accuracy: 0.7433 - val_loss: 0.6022 - val_accuracy: 0.7520\n"
     ]
    },
    {
     "data": {
      "text/plain": [
       "<tensorflow.python.keras.callbacks.History at 0x13b206c10>"
      ]
     },
     "execution_count": 45,
     "metadata": {},
     "output_type": "execute_result"
    }
   ],
   "source": [
    "x.fit(X_train, y_train, \n",
    "          validation_data=(X_test, y_test),\n",
    "          batch_size=batch, \n",
    "          verbose=1, \n",
    "          epochs=epoch_number)\n",
    "\n",
    "# x.fit(X_train, y_train)"
   ]
  },
  {
   "cell_type": "code",
   "execution_count": null,
   "metadata": {},
   "outputs": [],
   "source": [
    "test_loss, test_accuracy = model.evaluate(X_test, y_test)\n",
    "print ('Loss, accuracy:', test_loss, test_accuracy)\n"
   ]
  },
  {
   "cell_type": "code",
   "execution_count": null,
   "metadata": {},
   "outputs": [],
   "source": [
    "train_loss, train_accuracy = model.evaluate(X_train, y_train)\n",
    "print ('Loss, accuracy:', test_loss, test_accuracy)"
   ]
  },
  {
   "cell_type": "code",
   "execution_count": null,
   "metadata": {},
   "outputs": [],
   "source": []
  },
  {
   "cell_type": "code",
   "execution_count": null,
   "metadata": {},
   "outputs": [],
   "source": [
    "import keras.utils\n",
    "from keras.utils.vis_utils import plot_model\n",
    "# import tensorflow.keras.utils.plot_model as modelplot\n",
    "# tensorflow.keras.utils.\n",
    "keras.utils.print_summary(model)\n",
    "plot_model(model, to_file='model.png')\n"
   ]
  },
  {
   "cell_type": "code",
   "execution_count": null,
   "metadata": {},
   "outputs": [],
   "source": [
    "import tensorflow.keras.utils as utils\n",
    "\n",
    "# utils.plot_model(model, to_file='model.png', show_layer_names=True)\n",
    "utils.plot_model(model, show_layer_names=True)"
   ]
  },
  {
   "cell_type": "code",
   "execution_count": null,
   "metadata": {},
   "outputs": [],
   "source": [
    "plot_model(model, to_file='model_plot.png', show_shapes=True, show_layer_names=True)"
   ]
  },
  {
   "cell_type": "code",
   "execution_count": null,
   "metadata": {},
   "outputs": [],
   "source": []
  }
 ],
 "metadata": {
  "kernelspec": {
   "display_name": "Python 3",
   "language": "python",
   "name": "python3"
  },
  "language_info": {
   "codemirror_mode": {
    "name": "ipython",
    "version": 3
   },
   "file_extension": ".py",
   "mimetype": "text/x-python",
   "name": "python",
   "nbconvert_exporter": "python",
   "pygments_lexer": "ipython3",
   "version": "3.7.4"
  }
 },
 "nbformat": 4,
 "nbformat_minor": 2
}
