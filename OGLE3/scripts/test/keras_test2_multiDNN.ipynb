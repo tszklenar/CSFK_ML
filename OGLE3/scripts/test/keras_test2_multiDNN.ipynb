{
 "cells": [
  {
   "cell_type": "code",
   "execution_count": null,
   "metadata": {},
   "outputs": [],
   "source": [
    "import numpy as np\n",
    "import glob\n",
    "import os, re\n",
    "import cv2\n",
    "import random\n",
    "import matplotlib.pyplot as plt\n",
    "import tensorflow as tf\n",
    "import datetime"
   ]
  },
  {
   "cell_type": "code",
   "execution_count": null,
   "metadata": {},
   "outputs": [],
   "source": [
    "!pwd"
   ]
  },
  {
   "cell_type": "code",
   "execution_count": null,
   "metadata": {},
   "outputs": [],
   "source": [
    "# \n",
    "# Data directory - CHANGE it to the correct one\n",
    "# \n",
    "\n",
    "dir = \"/Users/tomi/Astronomy/MTA_CSFK/ML_OGLE/OGLE3/test/testdata_nocolor_withtxt/\""
   ]
  },
  {
   "cell_type": "code",
   "execution_count": null,
   "metadata": {},
   "outputs": [],
   "source": [
    "datafiles = []\n",
    "datafiles = sorted(glob.glob(dir + \"*.png\"))\n",
    "print(\"Number of image samples: \", len(datafiles))"
   ]
  },
  {
   "cell_type": "code",
   "execution_count": null,
   "metadata": {},
   "outputs": [],
   "source": [
    "dataPertxts = []\n",
    "dataPertxts = sorted(glob.glob(dir + \"/*.txt\"))\n",
    "print(\"Number of period text samples: \", len(dataPertxts))"
   ]
  },
  {
   "cell_type": "code",
   "execution_count": null,
   "metadata": {},
   "outputs": [],
   "source": [
    "datasize = len(datafiles)\n",
    "train_setsize = 0.8\n",
    "test_setsize = 0.2\n",
    "# validate_setsize = 0.2\n",
    "img_size = 128\n",
    "batch = 32\n",
    "epoch_number = 25"
   ]
  },
  {
   "cell_type": "code",
   "execution_count": null,
   "metadata": {},
   "outputs": [],
   "source": [
    "X_Img = []\n",
    "X_Ptext = []\n",
    "y = []\n",
    "\n",
    "for i in datafiles:\n",
    "    img = cv2.imread(i) / 255.  \n",
    "    per = np.genfromtxt(dir + str(os.path.basename(i).split(\".\")[0]) + \".txt\")\n",
    "    \n",
    "    if img.shape[0] != img.shape[1]:\n",
    "        img = cv2.resize(datafile,(img_size,img_size))\n",
    "    label = os.path.basename(i).split(\"_\")[0]\n",
    "    X_Img.append(img)\n",
    "    X_Ptext.append(per)\n",
    "    y.append(label)\n",
    "\n",
    "X_Img=np.array(X_Img)\n",
    "X_Ptext=np.array(X_Ptext)\n",
    "y=np.array(y)"
   ]
  },
  {
   "cell_type": "code",
   "execution_count": null,
   "metadata": {},
   "outputs": [],
   "source": [
    "# XPtext = []\n",
    "# yPtext = []\n",
    "\n",
    "# for i in dataPertxts:\n",
    "#     dataPertxt = np.genfromtxt(i)\n",
    "#     label = os.path.basename(i).split(\"_\")[0]\n",
    "#     XPtext.append(dataPertxt)\n",
    "#     yPtext.append(label)\n",
    "\n",
    "# XPtext=np.array(XPtext)\n",
    "# yPtext=np.array(yPtext)"
   ]
  },
  {
   "cell_type": "code",
   "execution_count": null,
   "metadata": {},
   "outputs": [],
   "source": [
    "#print(\"Datasize:\", datasize)\n",
    "#print(\"Train files:\", len(train_set))\n",
    "#print(\"Test files:\", len(test_set))\n",
    "#print(\"Control files:\", len(control_set))\n"
   ]
  },
  {
   "cell_type": "code",
   "execution_count": null,
   "metadata": {},
   "outputs": [],
   "source": [
    "import sklearn.preprocessing\n",
    "encoder = sklearn.preprocessing.OneHotEncoder(sparse=False)\n",
    "\n",
    "encoder.fit(y.reshape(-1,1))\n",
    "y_enc = encoder.transform(y.reshape(-1,1))\n",
    "\n",
    "# encoder.fit(yPtext.reshape(-1,1))\n",
    "# yPtext_enc = encoder.transform(yPtext.reshape(-1,1))"
   ]
  },
  {
   "cell_type": "code",
   "execution_count": null,
   "metadata": {},
   "outputs": [],
   "source": [
    "import sklearn.model_selection\n",
    "X_Img_train, X_Img_test, y_Img_train, y_Img_test = sklearn.model_selection.train_test_split(X_Img, y_enc, \n",
    "                                                                            shuffle=True, \n",
    "                                                                            stratify=y, \n",
    "                                                                            train_size = train_setsize,\n",
    "                                                                            test_size=test_setsize, \n",
    "                                                                            random_state=42)\n",
    "\n",
    "(n_sampl, x_dim, y_dim, lc_channels) = X_Img_train.shape\n"
   ]
  },
  {
   "cell_type": "code",
   "execution_count": null,
   "metadata": {},
   "outputs": [],
   "source": [
    "# X_Ptext_train, X_Ptext_test, y_Ptext_train, y_Ptext_test = sklearn.model_selection.train_test_split(X_Ptext, y_enc, \n",
    "#                                                                             shuffle=True, \n",
    "#                                                                             stratify=yPtext, \n",
    "#                                                                             train_size = train_setsize,\n",
    "#                                                                             test_size=test_setsize, \n",
    "#                                                                             random_state=42)\n",
    "\n",
    "X_Ptext_train, X_Ptext_test = sklearn.model_selection.train_test_split(X_Ptext, \n",
    "                                                                            shuffle=True, \n",
    "                                                                            stratify=y, \n",
    "                                                                            train_size = train_setsize,\n",
    "                                                                            test_size=test_setsize, \n",
    "                                                                            random_state=42)\n",
    "\n",
    "# XPtext_train[0]\n",
    "(nPtext_sampl) = X_Ptext_train.shape"
   ]
  },
  {
   "cell_type": "code",
   "execution_count": null,
   "metadata": {},
   "outputs": [],
   "source": [
    "print(len(X_train))"
   ]
  },
  {
   "cell_type": "code",
   "execution_count": null,
   "metadata": {},
   "outputs": [],
   "source": [
    "# X_Img_train.shape"
   ]
  },
  {
   "cell_type": "code",
   "execution_count": null,
   "metadata": {},
   "outputs": [],
   "source": [
    "# y_Img_train.shape"
   ]
  },
  {
   "cell_type": "code",
   "execution_count": null,
   "metadata": {},
   "outputs": [],
   "source": [
    "# X_Ptext_train.shape"
   ]
  },
  {
   "cell_type": "code",
   "execution_count": null,
   "metadata": {},
   "outputs": [],
   "source": [
    "# \n",
    "# Test network version 0.2 - multi layer DNN\n",
    "# Multi-layer network using the functional API\n",
    "# \n",
    "\n",
    "from tensorflow.keras import Model\n",
    "from tensorflow.keras.layers import Input,Conv2D, MaxPooling2D, AveragePooling2D\n",
    "from tensorflow.keras.layers import Flatten,Dense,Dropout,concatenate\n",
    "\n",
    "lc_inputs = Input(shape=(x_dim, y_dim, lc_channels))\n",
    "lcx = Conv2D(16, 8, activation='relu')(lc_inputs)\n",
    "lcx = MaxPooling2D( pool_size=(2,2) )(lcx)\n",
    "\n",
    "lcx = Conv2D(32, 4, activation='relu')(lcx)\n",
    "lcx = MaxPooling2D( pool_size=(2,2) )(lcx)\n",
    "\n",
    "lcx = Conv2D(64, 2, activation='relu')(lcx)\n",
    "lcx = MaxPooling2D( pool_size=(2,2) )(lcx)\n",
    "\n",
    "lcx = Conv2D(128, 1, activation='relu')(lcx)\n",
    "lcx = MaxPooling2D( pool_size=(2,2) )(lcx)\n",
    "\n",
    "lcx = Conv2D(256, 1, activation='relu')(lcx)\n",
    "lcx = MaxPooling2D( pool_size=(2,2) )(lcx)\n",
    "\n",
    "lcx = Flatten()(lcx)\n",
    "\n",
    "Ptext_inputs = Input(shape=(1,))\n",
    "ptxty = Flatten()(Ptext_inputs)\n",
    "\n",
    "model = concatenate([lcx, ptxty])\n",
    "\n",
    "model = Dense(256, activation='relu')(model)\n",
    "model = Dense(256, activation='relu')(model)\n",
    "model = Dense(64, activation='relu')(model)\n",
    "\n",
    "model = Dense(5, activation='softmax')(model)\n",
    "\n",
    "model = Model(inputs=[lc_inputs,Ptext_inputs], outputs = model)\n"
   ]
  },
  {
   "cell_type": "code",
   "execution_count": null,
   "metadata": {},
   "outputs": [],
   "source": [
    "# \n",
    "# Multi GPU model - use it ONLY when you train with GPUs\n",
    "# \n",
    "\n",
    "from tensorflow.keras.utils import multi_gpu_model\n",
    "model = multi_gpu_model(model, gpus=4)"
   ]
  },
  {
   "cell_type": "code",
   "execution_count": null,
   "metadata": {},
   "outputs": [],
   "source": [
    "from tensorflow.keras.optimizers import SGD\n",
    "from tensorflow.keras.callbacks import TensorBoard\n",
    "\n",
    "log_dir = dir + '/logs/' + datetime.datetime.now().strftime(\"%Y%m%d-%H%M%S\")\n",
    "\n",
    "tensorboard_callback = TensorBoard(log_dir,histogram_freq=1)\n",
    "\n",
    "opt = SGD(lr=0.00001, decay=1e-6, momentum=0.9, nesterov=True)\n",
    "model.compile(loss='categorical_crossentropy', optimizer='sgd', metrics=['accuracy'])"
   ]
  },
  {
   "cell_type": "code",
   "execution_count": null,
   "metadata": {},
   "outputs": [],
   "source": []
  },
  {
   "cell_type": "code",
   "execution_count": null,
   "metadata": {},
   "outputs": [],
   "source": [
    "model.fit([X_Img_train, X_Ptext_train],\n",
    "          y_Img_train,\n",
    "          validation_data=([X_Img_train, X_Ptext_train],y_Img_train,)\n",
    "          batch_size=batch, \n",
    "          verbose=1, \n",
    "          epochs=epoch_number,\n",
    "          callbacks=[tensorboard_callback])\n",
    "\n",
    "# model.fit([X_Img_train, X_Ptext_train],\n",
    "#           y_Img_train,\n",
    "#           batch_size=batch, \n",
    "#           verbose=1, \n",
    "#           epochs=epoch_number)\n"
   ]
  },
  {
   "cell_type": "code",
   "execution_count": null,
   "metadata": {},
   "outputs": [],
   "source": [
    "#################\n",
    "# Saving the model (architecture, weights, training configuration, state of the optimizer)\n",
    "#################\n",
    "\n",
    "# model.save('OGLE3_colored.h5')\n",
    "model.save('OGLE3_non_colored_with_text.h5')\n",
    "\n",
    "# !!!!!\n",
    "# Eddig kell a kódot lefuttatni!\n",
    "# !!!!!"
   ]
  },
  {
   "cell_type": "code",
   "execution_count": null,
   "metadata": {},
   "outputs": [],
   "source": [
    "test_loss, test_accuracy = model.evaluate(X_test, y_test)\n",
    "print ('Loss, accuracy:', test_loss, test_accuracy)\n"
   ]
  },
  {
   "cell_type": "code",
   "execution_count": null,
   "metadata": {},
   "outputs": [],
   "source": [
    "train_loss, train_accuracy = model.evaluate(X_train, y_train)\n",
    "print ('Loss, accuracy:', test_loss, test_accuracy)"
   ]
  },
  {
   "cell_type": "code",
   "execution_count": null,
   "metadata": {},
   "outputs": [],
   "source": []
  },
  {
   "cell_type": "code",
   "execution_count": null,
   "metadata": {},
   "outputs": [],
   "source": [
    "import keras.utils\n",
    "from keras.utils.vis_utils import plot_model\n",
    "# import tensorflow.keras.utils.plot_model as modelplot\n",
    "# tensorflow.keras.utils.\n",
    "keras.Model.summary(model)\n",
    "# plot_model(model, to_file='model.png')\n"
   ]
  },
  {
   "cell_type": "code",
   "execution_count": null,
   "metadata": {},
   "outputs": [],
   "source": [
    "import tensorflow.keras.utils as utils\n",
    "\n",
    "utils.plot_model(model, to_file='model.png', show_shapes=True, show_layer_names=True)"
   ]
  },
  {
   "cell_type": "code",
   "execution_count": null,
   "metadata": {},
   "outputs": [],
   "source": [
    "a=encoder.inverse_transform(y_test)\n",
    "b=model.predict(X_test)\n",
    "#encoder.transform(np.argmax(b,axis=1))\n",
    "#print(np.argmax(b[4]),a[4])\n",
    "#plt.imshow(X_test[4])\n",
    "#print(b[4], y_test[4])\n",
    "b[0]"
   ]
  },
  {
   "cell_type": "code",
   "execution_count": null,
   "metadata": {},
   "outputs": [],
   "source": [
    "from keras.preprocessing import image\n",
    "\n",
    "img = \"/Users/tomi/Astronomy/MTA_CSFK/ML_OGLE/ACep/ACEP_LCs/acep_038.png\"\n",
    "# img = \"/Users/tomi/Astronomy/MTA_CSFK/ML_OGLE/DSct/DSct_LCs/dsct_2735.png\"\n",
    "img = \"/Users/tomi/Astronomy/MTA_CSFK/ML_OGLE/ECL/ECL_LCs_2/01015.png\"\n",
    "# img = \"/Users/tomi/Astronomy/MTA_CSFK/ML_OGLE/RRLyr/RRLyr_LCs/rrlyr_01020.png\"\n",
    "# img = \"/Users/tomi/Astronomy/MTA_CSFK/ML_OGLE/T2Cep/T2CEP_LCs/t2cep_157.jpg\"\n",
    "\n",
    "# img = cv2.imread(img)\n",
    "# img = cv2.resize(img,(img_size,img_size))\n",
    "\n",
    "# img = np.expand_dims(img, axis=0)\n",
    "\n",
    "# model.predict(img)\n",
    "img = image.load_img(img, target_size=(img_size, img_size))\n",
    "img = image.img_to_array(img)\n",
    "img = np.expand_dims(img, axis=0)\n",
    "model.predict(img)\n",
    "model.predict_classes(img)\n",
    "\n"
   ]
  },
  {
   "cell_type": "code",
   "execution_count": null,
   "metadata": {},
   "outputs": [],
   "source": [
    "# from keras.utils.vis_utils import plot_model\n",
    "# from tensorflow.keras.utils\n",
    "import pydot\n",
    "\n",
    "# keras.utils.plot_model(model, to_file='model_plot.png', show_shapes=True, show_layer_names=True)\n",
    "keras.utils.plot_model(model, show_shapes=True, show_layer_names=True)"
   ]
  },
  {
   "cell_type": "code",
   "execution_count": null,
   "metadata": {},
   "outputs": [],
   "source": [
    "plot_model(model, to_file='model_plot.png', show_shapes=True, show_layer_names=True)"
   ]
  },
  {
   "cell_type": "code",
   "execution_count": null,
   "metadata": {},
   "outputs": [],
   "source": [
    "# Summaries for histogram\n",
    "\n",
    "k = tf.placeholder(tf.float32)\n",
    "# Make a normal distribution, with a shifting mean\n",
    "mean_moving_normal = tf.random_normal(shape=[100], mean=(5*k), stddev=1)\n",
    "# Record that distribution into a histogram summary\n",
    "tf.summary.histogram(\"normal/moving_mean\", mean_moving_normal)\n"
   ]
  },
  {
   "cell_type": "code",
   "execution_count": null,
   "metadata": {},
   "outputs": [],
   "source": []
  }
 ],
 "metadata": {
  "kernelspec": {
   "display_name": "Python 3",
   "language": "python",
   "name": "python3"
  },
  "language_info": {
   "codemirror_mode": {
    "name": "ipython",
    "version": 3
   },
   "file_extension": ".py",
   "mimetype": "text/x-python",
   "name": "python",
   "nbconvert_exporter": "python",
   "pygments_lexer": "ipython3",
   "version": "3.7.4"
  }
 },
 "nbformat": 4,
 "nbformat_minor": 2
}
